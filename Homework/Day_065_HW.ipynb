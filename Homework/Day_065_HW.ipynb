{
 "cells": [
  {
   "cell_type": "code",
   "execution_count": 1,
   "metadata": {},
   "outputs": [
    {
     "name": "stdout",
     "output_type": "stream",
     "text": [
      "Collecting gensim\n",
      "  Downloading https://files.pythonhosted.org/packages/08/c9/58bbe33a6a440f7ba58b90d5682525ee8d446d288018bbfca0ac2b69f9b0/gensim-3.7.1-cp37-cp37m-win_amd64.whl (24.1MB)\n",
      "Requirement already satisfied: numpy>=1.11.3 in c:\\users\\edith_lin\\appdata\\local\\continuum\\anaconda3\\lib\\site-packages (from gensim) (1.15.4)\n",
      "Requirement already satisfied: scipy>=0.18.1 in c:\\users\\edith_lin\\appdata\\local\\continuum\\anaconda3\\lib\\site-packages (from gensim) (1.1.0)\n",
      "Collecting smart-open>=1.7.0 (from gensim)\n",
      "  Downloading https://files.pythonhosted.org/packages/ff/c8/de7dcf34d4b5f2ae94fe1055e0d6418fb97a63c9dc3428edd264704983a2/smart_open-1.8.0.tar.gz (40kB)\n",
      "Requirement already satisfied: six>=1.5.0 in c:\\users\\edith_lin\\appdata\\local\\continuum\\anaconda3\\lib\\site-packages (from gensim) (1.12.0)\n",
      "Requirement already satisfied: boto>=2.32 in c:\\users\\edith_lin\\appdata\\local\\continuum\\anaconda3\\lib\\site-packages (from smart-open>=1.7.0->gensim) (2.49.0)\n",
      "Collecting bz2file (from smart-open>=1.7.0->gensim)\n",
      "  Downloading https://files.pythonhosted.org/packages/61/39/122222b5e85cd41c391b68a99ee296584b2a2d1d233e7ee32b4532384f2d/bz2file-0.98.tar.gz\n",
      "Requirement already satisfied: requests in c:\\users\\edith_lin\\appdata\\local\\continuum\\anaconda3\\lib\\site-packages (from smart-open>=1.7.0->gensim) (2.21.0)\n",
      "Collecting boto3 (from smart-open>=1.7.0->gensim)\n",
      "  Downloading https://files.pythonhosted.org/packages/59/25/45dbe60b2241556c0bd69d1dfc226267365140cda89bd2e34bf76ea418a8/boto3-1.9.120-py2.py3-none-any.whl (128kB)\n",
      "Requirement already satisfied: certifi>=2017.4.17 in c:\\users\\edith_lin\\appdata\\local\\continuum\\anaconda3\\lib\\site-packages (from requests->smart-open>=1.7.0->gensim) (2018.11.29)\n",
      "Requirement already satisfied: urllib3<1.25,>=1.21.1 in c:\\users\\edith_lin\\appdata\\local\\continuum\\anaconda3\\lib\\site-packages (from requests->smart-open>=1.7.0->gensim) (1.24.1)\n",
      "Requirement already satisfied: chardet<3.1.0,>=3.0.2 in c:\\users\\edith_lin\\appdata\\local\\continuum\\anaconda3\\lib\\site-packages (from requests->smart-open>=1.7.0->gensim) (3.0.4)\n",
      "Requirement already satisfied: idna<2.9,>=2.5 in c:\\users\\edith_lin\\appdata\\local\\continuum\\anaconda3\\lib\\site-packages (from requests->smart-open>=1.7.0->gensim) (2.8)\n",
      "Collecting jmespath<1.0.0,>=0.7.1 (from boto3->smart-open>=1.7.0->gensim)\n",
      "  Downloading https://files.pythonhosted.org/packages/83/94/7179c3832a6d45b266ddb2aac329e101367fbdb11f425f13771d27f225bb/jmespath-0.9.4-py2.py3-none-any.whl\n",
      "Collecting s3transfer<0.3.0,>=0.2.0 (from boto3->smart-open>=1.7.0->gensim)\n",
      "  Downloading https://files.pythonhosted.org/packages/d7/de/5737f602e22073ecbded7a0c590707085e154e32b68d86545dcc31004c02/s3transfer-0.2.0-py2.py3-none-any.whl (69kB)\n",
      "Collecting botocore<1.13.0,>=1.12.120 (from boto3->smart-open>=1.7.0->gensim)\n",
      "  Downloading https://files.pythonhosted.org/packages/23/34/f93fdd88dd35e518054ea9f353b6bb4b4bd8721ca24cd63a8adf373d782d/botocore-1.12.120-py2.py3-none-any.whl (5.3MB)\n",
      "Requirement already satisfied: python-dateutil<3.0.0,>=2.1; python_version >= \"2.7\" in c:\\users\\edith_lin\\appdata\\local\\continuum\\anaconda3\\lib\\site-packages (from botocore<1.13.0,>=1.12.120->boto3->smart-open>=1.7.0->gensim) (2.7.5)\n",
      "Requirement already satisfied: docutils>=0.10 in c:\\users\\edith_lin\\appdata\\local\\continuum\\anaconda3\\lib\\site-packages (from botocore<1.13.0,>=1.12.120->boto3->smart-open>=1.7.0->gensim) (0.14)\n",
      "Building wheels for collected packages: smart-open, bz2file\n",
      "  Running setup.py bdist_wheel for smart-open: started\n",
      "  Running setup.py bdist_wheel for smart-open: finished with status 'done'\n",
      "  Stored in directory: C:\\Users\\edith_lin\\AppData\\Local\\pip\\Cache\\wheels\\f7\\a6\\ff\\9ab5842c14e50e95a06a4675b0b4a689c9cab6064dac2b01d0\n",
      "  Running setup.py bdist_wheel for bz2file: started\n",
      "  Running setup.py bdist_wheel for bz2file: finished with status 'done'\n",
      "  Stored in directory: C:\\Users\\edith_lin\\AppData\\Local\\pip\\Cache\\wheels\\81\\75\\d6\\e1317bf09bf1af5a30befc2a007869fa6e1f516b8f7c591cb9\n",
      "Successfully built smart-open bz2file\n",
      "Installing collected packages: bz2file, jmespath, botocore, s3transfer, boto3, smart-open, gensim\n",
      "Successfully installed boto3-1.9.120 botocore-1.12.120 bz2file-0.98 gensim-3.7.1 jmespath-0.9.4 s3transfer-0.2.0 smart-open-1.8.0\n"
     ]
    }
   ],
   "source": [
    "!pip install gensim"
   ]
  },
  {
   "cell_type": "code",
   "execution_count": 2,
   "metadata": {},
   "outputs": [],
   "source": [
    "import gensim, logging\n",
    "from gensim.models import word2vec"
   ]
  },
  {
   "cell_type": "code",
   "execution_count": 3,
   "metadata": {},
   "outputs": [
    {
     "name": "stderr",
     "output_type": "stream",
     "text": [
      "2019-03-25 22:58:39,151 : INFO : collecting all words and their counts\n",
      "2019-03-25 22:58:39,154 : INFO : PROGRESS: at sentence #0, processed 0 words, keeping 0 word types\n",
      "2019-03-25 22:58:39,156 : INFO : collected 3 word types from a corpus of 4 raw words and 2 sentences\n",
      "2019-03-25 22:58:39,157 : INFO : Loading a fresh vocabulary\n",
      "2019-03-25 22:58:39,158 : INFO : effective_min_count=1 retains 3 unique words (100% of original 3, drops 0)\n",
      "2019-03-25 22:58:39,160 : INFO : effective_min_count=1 leaves 4 word corpus (100% of original 4, drops 0)\n",
      "2019-03-25 22:58:39,161 : INFO : deleting the raw counts dictionary of 3 items\n",
      "2019-03-25 22:58:39,162 : INFO : sample=0.001 downsamples 3 most-common words\n",
      "2019-03-25 22:58:39,163 : INFO : downsampling leaves estimated 0 word corpus (5.7% of prior 4)\n",
      "2019-03-25 22:58:39,205 : INFO : estimated required memory for 3 words and 256 dimensions: 7644 bytes\n",
      "2019-03-25 22:58:39,207 : INFO : resetting layer weights\n",
      "2019-03-25 22:58:39,210 : INFO : training model with 4 workers on 3 vocabulary and 256 features, using sg=0 hs=0 sample=0.001 negative=5 window=5\n",
      "2019-03-25 22:58:39,218 : INFO : worker thread finished; awaiting finish of 3 more threads\n",
      "2019-03-25 22:58:39,219 : INFO : worker thread finished; awaiting finish of 2 more threads\n",
      "2019-03-25 22:58:39,220 : INFO : worker thread finished; awaiting finish of 1 more threads\n",
      "2019-03-25 22:58:39,222 : INFO : worker thread finished; awaiting finish of 0 more threads\n",
      "2019-03-25 22:58:39,223 : INFO : EPOCH - 1 : training on 4 raw words (0 effective words) took 0.0s, 0 effective words/s\n",
      "2019-03-25 22:58:39,230 : INFO : worker thread finished; awaiting finish of 3 more threads\n",
      "2019-03-25 22:58:39,232 : INFO : worker thread finished; awaiting finish of 2 more threads\n",
      "2019-03-25 22:58:39,232 : INFO : worker thread finished; awaiting finish of 1 more threads\n",
      "2019-03-25 22:58:39,232 : INFO : worker thread finished; awaiting finish of 0 more threads\n",
      "2019-03-25 22:58:39,236 : INFO : EPOCH - 2 : training on 4 raw words (0 effective words) took 0.0s, 0 effective words/s\n",
      "2019-03-25 22:58:39,242 : INFO : worker thread finished; awaiting finish of 3 more threads\n",
      "2019-03-25 22:58:39,243 : INFO : worker thread finished; awaiting finish of 2 more threads\n",
      "2019-03-25 22:58:39,244 : INFO : worker thread finished; awaiting finish of 1 more threads\n",
      "2019-03-25 22:58:39,245 : INFO : worker thread finished; awaiting finish of 0 more threads\n",
      "2019-03-25 22:58:39,246 : INFO : EPOCH - 3 : training on 4 raw words (1 effective words) took 0.0s, 199 effective words/s\n",
      "2019-03-25 22:58:39,250 : INFO : worker thread finished; awaiting finish of 3 more threads\n",
      "2019-03-25 22:58:39,250 : INFO : worker thread finished; awaiting finish of 2 more threads\n",
      "2019-03-25 22:58:39,251 : INFO : worker thread finished; awaiting finish of 1 more threads\n",
      "2019-03-25 22:58:39,252 : INFO : worker thread finished; awaiting finish of 0 more threads\n",
      "2019-03-25 22:58:39,252 : INFO : EPOCH - 4 : training on 4 raw words (0 effective words) took 0.0s, 0 effective words/s\n",
      "2019-03-25 22:58:39,257 : INFO : worker thread finished; awaiting finish of 3 more threads\n",
      "2019-03-25 22:58:39,257 : INFO : worker thread finished; awaiting finish of 2 more threads\n",
      "2019-03-25 22:58:39,258 : INFO : worker thread finished; awaiting finish of 1 more threads\n",
      "2019-03-25 22:58:39,258 : INFO : worker thread finished; awaiting finish of 0 more threads\n",
      "2019-03-25 22:58:39,259 : INFO : EPOCH - 5 : training on 4 raw words (0 effective words) took 0.0s, 0 effective words/s\n",
      "2019-03-25 22:58:39,259 : INFO : training on a 20 raw words (1 effective words) took 0.0s, 21 effective words/s\n",
      "2019-03-25 22:58:39,259 : WARNING : under 10 jobs per worker: consider setting a smaller `batch_words' for smoother alpha decay\n"
     ]
    }
   ],
   "source": [
    "import gensim, logging  \n",
    "logging.basicConfig(format='%(asctime)s : %(levelname)s : %(message)s', level=logging.INFO)  \n",
    "  \n",
    "sentences = [['first', 'sentence'], ['second', 'sentence']]  \n",
    "# train word2vec on the two sentences  \n",
    "model = word2vec.Word2Vec(sentences, size=256, min_count=1, window=5, workers=4, sg=0)  \n",
    "\n",
    "# sg=0 表示COBW, sg=1 表示skip-gram"
   ]
  },
  {
   "cell_type": "code",
   "execution_count": 4,
   "metadata": {},
   "outputs": [
    {
     "name": "stdout",
     "output_type": "stream",
     "text": [
      "Word2Vec(vocab=3, size=256, alpha=0.025)\n"
     ]
    }
   ],
   "source": [
    "print(model)"
   ]
  },
  {
   "cell_type": "code",
   "execution_count": 5,
   "metadata": {},
   "outputs": [
    {
     "name": "stderr",
     "output_type": "stream",
     "text": [
      "C:\\Users\\edith_lin\\AppData\\Local\\Continuum\\anaconda3\\lib\\site-packages\\ipykernel_launcher.py:1: DeprecationWarning: Call to deprecated `similarity` (Method will be removed in 4.0.0, use self.wv.similarity() instead).\n",
      "  \"\"\"Entry point for launching an IPython kernel.\n"
     ]
    },
    {
     "data": {
      "text/plain": [
       "0.037054643"
      ]
     },
     "execution_count": 5,
     "metadata": {},
     "output_type": "execute_result"
    }
   ],
   "source": [
    "model.similarity('first','second')"
   ]
  },
  {
   "cell_type": "code",
   "execution_count": 6,
   "metadata": {},
   "outputs": [
    {
     "name": "stderr",
     "output_type": "stream",
     "text": [
      "2019-03-25 22:59:51,214 : INFO : saving Word2Vec object under mymodel, separately None\n",
      "2019-03-25 22:59:51,215 : INFO : not storing attribute vectors_norm\n",
      "2019-03-25 22:59:51,216 : INFO : not storing attribute cum_table\n",
      "2019-03-25 22:59:51,222 : INFO : saved mymodel\n",
      "2019-03-25 22:59:51,223 : INFO : loading Word2Vec object from mymodel\n",
      "2019-03-25 22:59:51,225 : INFO : loading wv recursively from mymodel.wv.* with mmap=None\n",
      "2019-03-25 22:59:51,225 : INFO : setting ignored attribute vectors_norm to None\n",
      "2019-03-25 22:59:51,226 : INFO : loading vocabulary recursively from mymodel.vocabulary.* with mmap=None\n",
      "2019-03-25 22:59:51,227 : INFO : loading trainables recursively from mymodel.trainables.* with mmap=None\n",
      "2019-03-25 22:59:51,228 : INFO : setting ignored attribute cum_table to None\n",
      "2019-03-25 22:59:51,229 : INFO : loaded mymodel\n"
     ]
    }
   ],
   "source": [
    "model.save('mymodel')  \n",
    "new_model = gensim.models.Word2Vec.load('mymodel')  "
   ]
  },
  {
   "cell_type": "markdown",
   "metadata": {},
   "source": [
    "### 作業\n",
    "- 嘗試調整參數:\n",
    "\n",
    "      sg:sg=1表示採用skip-gram,sg=0 表示採用cbow\n",
    "      window:能往左往右看幾個字的意思"
   ]
  },
  {
   "cell_type": "code",
   "execution_count": 7,
   "metadata": {},
   "outputs": [],
   "source": [
    "import gensim, logging\n",
    "from gensim.models import word2vec"
   ]
  },
  {
   "cell_type": "code",
   "execution_count": 8,
   "metadata": {},
   "outputs": [
    {
     "name": "stderr",
     "output_type": "stream",
     "text": [
      "2019-03-25 23:05:36,674 : INFO : collecting all words and their counts\n",
      "2019-03-25 23:05:36,679 : INFO : PROGRESS: at sentence #0, processed 0 words, keeping 0 word types\n",
      "2019-03-25 23:05:36,681 : INFO : collected 3 word types from a corpus of 4 raw words and 2 sentences\n",
      "2019-03-25 23:05:36,682 : INFO : Loading a fresh vocabulary\n",
      "2019-03-25 23:05:36,683 : INFO : effective_min_count=1 retains 3 unique words (100% of original 3, drops 0)\n",
      "2019-03-25 23:05:36,684 : INFO : effective_min_count=1 leaves 4 word corpus (100% of original 4, drops 0)\n",
      "2019-03-25 23:05:36,685 : INFO : deleting the raw counts dictionary of 3 items\n",
      "2019-03-25 23:05:36,686 : INFO : sample=0.001 downsamples 3 most-common words\n",
      "2019-03-25 23:05:36,687 : INFO : downsampling leaves estimated 0 word corpus (5.7% of prior 4)\n",
      "2019-03-25 23:05:36,687 : INFO : estimated required memory for 3 words and 384 dimensions: 10716 bytes\n",
      "2019-03-25 23:05:36,688 : INFO : resetting layer weights\n",
      "2019-03-25 23:05:36,690 : INFO : training model with 4 workers on 3 vocabulary and 384 features, using sg=1 hs=0 sample=0.001 negative=5 window=3\n",
      "2019-03-25 23:05:36,696 : INFO : worker thread finished; awaiting finish of 3 more threads\n",
      "2019-03-25 23:05:36,696 : INFO : worker thread finished; awaiting finish of 2 more threads\n",
      "2019-03-25 23:05:36,698 : INFO : worker thread finished; awaiting finish of 1 more threads\n",
      "2019-03-25 23:05:36,698 : INFO : worker thread finished; awaiting finish of 0 more threads\n",
      "2019-03-25 23:05:36,699 : INFO : EPOCH - 1 : training on 4 raw words (0 effective words) took 0.0s, 0 effective words/s\n",
      "2019-03-25 23:05:36,705 : INFO : worker thread finished; awaiting finish of 3 more threads\n",
      "2019-03-25 23:05:36,706 : INFO : worker thread finished; awaiting finish of 2 more threads\n",
      "2019-03-25 23:05:36,707 : INFO : worker thread finished; awaiting finish of 1 more threads\n",
      "2019-03-25 23:05:36,708 : INFO : worker thread finished; awaiting finish of 0 more threads\n",
      "2019-03-25 23:05:36,709 : INFO : EPOCH - 2 : training on 4 raw words (0 effective words) took 0.0s, 0 effective words/s\n",
      "2019-03-25 23:05:36,717 : INFO : worker thread finished; awaiting finish of 3 more threads\n",
      "2019-03-25 23:05:36,718 : INFO : worker thread finished; awaiting finish of 2 more threads\n",
      "2019-03-25 23:05:36,719 : INFO : worker thread finished; awaiting finish of 1 more threads\n",
      "2019-03-25 23:05:36,720 : INFO : worker thread finished; awaiting finish of 0 more threads\n",
      "2019-03-25 23:05:36,722 : INFO : EPOCH - 3 : training on 4 raw words (1 effective words) took 0.0s, 144 effective words/s\n",
      "2019-03-25 23:05:36,728 : INFO : worker thread finished; awaiting finish of 3 more threads\n",
      "2019-03-25 23:05:36,731 : INFO : worker thread finished; awaiting finish of 2 more threads\n",
      "2019-03-25 23:05:36,733 : INFO : worker thread finished; awaiting finish of 1 more threads\n",
      "2019-03-25 23:05:36,733 : INFO : worker thread finished; awaiting finish of 0 more threads\n",
      "2019-03-25 23:05:36,734 : INFO : EPOCH - 4 : training on 4 raw words (1 effective words) took 0.0s, 215 effective words/s\n",
      "2019-03-25 23:05:36,741 : INFO : worker thread finished; awaiting finish of 3 more threads\n",
      "2019-03-25 23:05:36,742 : INFO : worker thread finished; awaiting finish of 2 more threads\n",
      "2019-03-25 23:05:36,742 : INFO : worker thread finished; awaiting finish of 1 more threads\n",
      "2019-03-25 23:05:36,742 : INFO : worker thread finished; awaiting finish of 0 more threads\n",
      "2019-03-25 23:05:36,742 : INFO : EPOCH - 5 : training on 4 raw words (0 effective words) took 0.0s, 0 effective words/s\n",
      "2019-03-25 23:05:36,742 : INFO : training on a 20 raw words (2 effective words) took 0.1s, 37 effective words/s\n",
      "2019-03-25 23:05:36,742 : WARNING : under 10 jobs per worker: consider setting a smaller `batch_words' for smoother alpha decay\n"
     ]
    }
   ],
   "source": [
    "sentences = [['I am a hero', 'sentence'], ['She is a teacher', 'sentence']] \n",
    "\n",
    "# train word2vec on the two sentences  \n",
    "logging.basicConfig(format='%(asctime)s : %(levelname)s : %(message)s', level=logging.INFO)  \n",
    "  \n",
    "# train word2vec on the two sentences  \n",
    "model = word2vec.Word2Vec(sentences, size=384, min_count=1, window=3, workers=4, sg=1)  \n",
    "\n",
    "# sg=0 表示COBW, sg=1 表示skip-gram"
   ]
  },
  {
   "cell_type": "code",
   "execution_count": 9,
   "metadata": {},
   "outputs": [
    {
     "name": "stdout",
     "output_type": "stream",
     "text": [
      "Word2Vec(vocab=3, size=384, alpha=0.025)\n"
     ]
    }
   ],
   "source": [
    "print(model)"
   ]
  },
  {
   "cell_type": "code",
   "execution_count": 10,
   "metadata": {},
   "outputs": [
    {
     "name": "stderr",
     "output_type": "stream",
     "text": [
      "C:\\Users\\edith_lin\\AppData\\Local\\Continuum\\anaconda3\\lib\\site-packages\\ipykernel_launcher.py:1: DeprecationWarning: Call to deprecated `similarity` (Method will be removed in 4.0.0, use self.wv.similarity() instead).\n",
      "  \"\"\"Entry point for launching an IPython kernel.\n"
     ]
    },
    {
     "data": {
      "text/plain": [
       "-0.0271669"
      ]
     },
     "execution_count": 10,
     "metadata": {},
     "output_type": "execute_result"
    }
   ],
   "source": [
    "model.similarity('I am a hero','She is a teacher')"
   ]
  },
  {
   "cell_type": "code",
   "execution_count": 11,
   "metadata": {},
   "outputs": [
    {
     "name": "stderr",
     "output_type": "stream",
     "text": [
      "2019-03-25 23:06:37,802 : INFO : saving Word2Vec object under mymodel, separately None\n",
      "2019-03-25 23:06:37,802 : INFO : not storing attribute vectors_norm\n",
      "2019-03-25 23:06:37,808 : INFO : not storing attribute cum_table\n",
      "2019-03-25 23:06:37,815 : INFO : saved mymodel\n",
      "2019-03-25 23:06:37,816 : INFO : loading Word2Vec object from mymodel\n",
      "2019-03-25 23:06:37,818 : INFO : loading wv recursively from mymodel.wv.* with mmap=None\n",
      "2019-03-25 23:06:37,819 : INFO : setting ignored attribute vectors_norm to None\n",
      "2019-03-25 23:06:37,820 : INFO : loading vocabulary recursively from mymodel.vocabulary.* with mmap=None\n",
      "2019-03-25 23:06:37,821 : INFO : loading trainables recursively from mymodel.trainables.* with mmap=None\n",
      "2019-03-25 23:06:37,822 : INFO : setting ignored attribute cum_table to None\n",
      "2019-03-25 23:06:37,823 : INFO : loaded mymodel\n"
     ]
    }
   ],
   "source": [
    "model.save('mymodel')  \n",
    "new_model = gensim.models.Word2Vec.load('mymodel')"
   ]
  },
  {
   "cell_type": "code",
   "execution_count": 12,
   "metadata": {},
   "outputs": [
    {
     "name": "stderr",
     "output_type": "stream",
     "text": [
      "2019-03-25 23:06:50,924 : INFO : collecting all words and their counts\n",
      "2019-03-25 23:06:50,924 : INFO : PROGRESS: at sentence #0, processed 0 words, keeping 0 word types\n",
      "2019-03-25 23:06:50,931 : INFO : collected 3 word types from a corpus of 4 raw words and 2 sentences\n",
      "2019-03-25 23:06:50,932 : INFO : Loading a fresh vocabulary\n",
      "2019-03-25 23:06:50,932 : INFO : effective_min_count=1 retains 3 unique words (100% of original 3, drops 0)\n",
      "2019-03-25 23:06:50,934 : INFO : effective_min_count=1 leaves 4 word corpus (100% of original 4, drops 0)\n",
      "2019-03-25 23:06:50,935 : INFO : deleting the raw counts dictionary of 3 items\n",
      "2019-03-25 23:06:50,935 : INFO : sample=0.001 downsamples 3 most-common words\n",
      "2019-03-25 23:06:50,936 : INFO : downsampling leaves estimated 0 word corpus (5.7% of prior 4)\n",
      "2019-03-25 23:06:50,937 : INFO : estimated required memory for 3 words and 256 dimensions: 7644 bytes\n",
      "2019-03-25 23:06:50,938 : INFO : resetting layer weights\n",
      "2019-03-25 23:06:50,940 : INFO : training model with 4 workers on 3 vocabulary and 256 features, using sg=0 hs=0 sample=0.001 negative=5 window=5\n",
      "2019-03-25 23:06:50,946 : INFO : worker thread finished; awaiting finish of 3 more threads\n",
      "2019-03-25 23:06:50,948 : INFO : worker thread finished; awaiting finish of 2 more threads\n",
      "2019-03-25 23:06:50,948 : INFO : worker thread finished; awaiting finish of 1 more threads\n",
      "2019-03-25 23:06:50,949 : INFO : worker thread finished; awaiting finish of 0 more threads\n",
      "2019-03-25 23:06:50,950 : INFO : EPOCH - 1 : training on 4 raw words (0 effective words) took 0.0s, 0 effective words/s\n",
      "2019-03-25 23:06:50,957 : INFO : worker thread finished; awaiting finish of 3 more threads\n",
      "2019-03-25 23:06:50,957 : INFO : worker thread finished; awaiting finish of 2 more threads\n",
      "2019-03-25 23:06:50,958 : INFO : worker thread finished; awaiting finish of 1 more threads\n",
      "2019-03-25 23:06:50,958 : INFO : worker thread finished; awaiting finish of 0 more threads\n",
      "2019-03-25 23:06:50,959 : INFO : EPOCH - 2 : training on 4 raw words (0 effective words) took 0.0s, 0 effective words/s\n",
      "2019-03-25 23:06:50,965 : INFO : worker thread finished; awaiting finish of 3 more threads\n",
      "2019-03-25 23:06:50,965 : INFO : worker thread finished; awaiting finish of 2 more threads\n",
      "2019-03-25 23:06:50,967 : INFO : worker thread finished; awaiting finish of 1 more threads\n",
      "2019-03-25 23:06:50,967 : INFO : worker thread finished; awaiting finish of 0 more threads\n",
      "2019-03-25 23:06:50,968 : INFO : EPOCH - 3 : training on 4 raw words (1 effective words) took 0.0s, 304 effective words/s\n",
      "2019-03-25 23:06:50,974 : INFO : worker thread finished; awaiting finish of 3 more threads\n",
      "2019-03-25 23:06:50,974 : INFO : worker thread finished; awaiting finish of 2 more threads\n",
      "2019-03-25 23:06:50,976 : INFO : worker thread finished; awaiting finish of 1 more threads\n",
      "2019-03-25 23:06:50,977 : INFO : worker thread finished; awaiting finish of 0 more threads\n",
      "2019-03-25 23:06:50,978 : INFO : EPOCH - 4 : training on 4 raw words (0 effective words) took 0.0s, 0 effective words/s\n",
      "2019-03-25 23:06:50,983 : INFO : worker thread finished; awaiting finish of 3 more threads\n",
      "2019-03-25 23:06:50,984 : INFO : worker thread finished; awaiting finish of 2 more threads\n",
      "2019-03-25 23:06:50,985 : INFO : worker thread finished; awaiting finish of 1 more threads\n",
      "2019-03-25 23:06:50,985 : INFO : worker thread finished; awaiting finish of 0 more threads\n",
      "2019-03-25 23:06:50,986 : INFO : EPOCH - 5 : training on 4 raw words (0 effective words) took 0.0s, 0 effective words/s\n",
      "2019-03-25 23:06:50,986 : INFO : training on a 20 raw words (1 effective words) took 0.0s, 22 effective words/s\n",
      "2019-03-25 23:06:50,986 : WARNING : under 10 jobs per worker: consider setting a smaller `batch_words' for smoother alpha decay\n",
      "C:\\Users\\edith_lin\\AppData\\Local\\Continuum\\anaconda3\\lib\\site-packages\\ipykernel_launcher.py:3: DeprecationWarning: Call to deprecated `similarity` (Method will be removed in 4.0.0, use self.wv.similarity() instead).\n",
      "  This is separate from the ipykernel package so we can avoid doing imports until\n"
     ]
    },
    {
     "data": {
      "text/plain": [
       "0.021833893"
      ]
     },
     "execution_count": 12,
     "metadata": {},
     "output_type": "execute_result"
    }
   ],
   "source": [
    "# train word2vec on the two sentences  \n",
    "model = word2vec.Word2Vec(sentences, size=256, min_count=1, window=5, workers=4, sg=0)  \n",
    "model.similarity('I am a hero','She is a teacher')"
   ]
  },
  {
   "cell_type": "code",
   "execution_count": null,
   "metadata": {},
   "outputs": [],
   "source": []
  }
 ],
 "metadata": {
  "kernelspec": {
   "display_name": "Python 3",
   "language": "python",
   "name": "python3"
  },
  "language_info": {
   "codemirror_mode": {
    "name": "ipython",
    "version": 3
   },
   "file_extension": ".py",
   "mimetype": "text/x-python",
   "name": "python",
   "nbconvert_exporter": "python",
   "pygments_lexer": "ipython3",
   "version": "3.7.1"
  }
 },
 "nbformat": 4,
 "nbformat_minor": 2
}
