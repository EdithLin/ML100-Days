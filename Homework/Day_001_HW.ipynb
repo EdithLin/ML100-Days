{
 "cells": [
  {
   "cell_type": "markdown",
   "metadata": {},
   "source": [
    "### 作業1：\n",
    "#### 請上 Kaggle, 在 Competitions 或 Dataset 中找一組競賽或資料並寫下：\n",
    "\n",
    "1.你選的這組資料為何重要\n",
    "- ANS：\n",
    "  - https://www.kaggle.com/yarnedia/2018-nba-playbyplay#2018pbp.csv\n",
    "  - 透過資料了解每個球員何時上場效益最高\n",
    "\n",
    "2.資料從何而來 (tips: 譬如提供者是誰、以什麼方式蒐集)\n",
    "- ANS：\n",
    "  - 資料提供者：Ray Hall\n",
    "  - 資料收集方式：在每一場比賽中，讓記錄員紀錄選手的得分、犯規及上場次數。 \n",
    "\n",
    "3.蒐集而來的資料型態為何\n",
    "- ANS：\n",
    "  - 結構性table;純文字檔（csv）\n",
    "\n",
    "4.這組資料想解決的問題如何評估\n",
    "- ANS：\n",
    "  - 失誤率：球員在上場幾分鐘後，失誤率提高\n",
    "  - 得分率：球員在何時上場得分率最高，上場多久得分率開始下降\n",
    "  - 球員對上那個球員失誤率變高等\n",
    "\n",
    "\n",
    "### 作業2：\n",
    "#### 想像你經營一個自由載客車隊，你希望能透過數據分析以提升業績，請你思考並描述你如何規劃整體的分析/解決方案：\n",
    "\n",
    "\n",
    "1.核心問題為何 (tips：如何定義 「提升業績 & 你的假設」)\n",
    "- ANS：\n",
    "  - 如何提高黏著度？\n",
    "  - 如何開發新客源？\n",
    "\n",
    "2.資料從何而來 (tips：哪些資料可能會對你想問的問題產生影響 & 資料如何蒐集)\n",
    "- ANS：\n",
    "  - 乘車完後，讓客戶在叫車app上填問卷，填完後給予下次乘車優惠，以便更順利收集數據。\n",
    "\n",
    "3.蒐集而來的資料型態為何\n",
    "- ANS：\n",
    "  - 結構性table;純文字檔（csv）\n",
    "\n",
    "4.你要回答的問題，其如何評估 (tips：你的假設如何驗證）\n",
    "- ANS：\n",
    "  - 如何提高黏著度？\n",
    "    - 透過收集的資料，評估哪些問題與金額相關度高（利用相關係數計算等），並針對問題做解決與處理。\n",
    "\n",
    "  - 如何開發新客源？\n",
    "    - 對於第一次搭車的同仁，得知他們是如何得知本車隊的搭乘訊息相當重要，在來源地區進行客源性質評估，並做相關行銷活動，提高新客率。"
   ]
  },
  {
   "cell_type": "markdown",
   "metadata": {},
   "source": [
    "### 作業3：完成Mean Squared Error(均方誤差) 的函式\n",
    "#### 什麼是均方誤差？\n",
    "- 均方誤差（英語：mean-square error、MSE）是對於無法觀察的參數 θ 的一個估計函數T；\n",
    "- 其定義為：MSE ⁡ ( T ) = E ⁡ ( ( T − θ ) 2 ) , 即，它是「誤差」的平方的期望值\n",
    "\n",
    "#### 什麼是誤差？\n",
    "- 誤差就是估計值與被估計量的差"
   ]
  },
  {
   "cell_type": "code",
   "execution_count": 2,
   "metadata": {},
   "outputs": [],
   "source": [
    "import numpy as np\n",
    "import matplotlib.pyplot as plt"
   ]
  },
  {
   "cell_type": "code",
   "execution_count": 28,
   "metadata": {},
   "outputs": [
    {
     "data": {
      "image/png": "[encoded data removed]",
      "text/plain": [
       "<Figure size 432x288 with 1 Axes>"
      ]
     },
     "metadata": {
      "needs_background": "light"
     },
     "output_type": "display_data"
    }
   ],
   "source": [
    "w = 3\n",
    "b = 0.5 \n",
    "x_line = np.linspace(0,100,101)\n",
    "y = (x_line + np.random.randn(101) * 5 ) * w + b\n",
    "y_hat = x_line * w + b\n",
    "\n",
    "\n",
    "plt.plot(x_line, y, 'b.', label = 'data points')\n",
    "plt.plot(x_line, y_hat, 'r-', label = 'prediction')\n",
    "\n",
    "plt.title('Assume we have data points(And the prediction)')\n",
    "plt.legend(loc = 2)\n",
    "plt.show()"
   ]
  },
  {
   "cell_type": "markdown",
   "metadata": {},
   "source": [
    "#### 在完成MSE前，先來練習一下Mean Absolute Error (MAE)\n",
    "##### 什麼是平均绝对误差?\n",
    "- MSE開根號就是MAE"
   ]
  },
  {
   "cell_type": "code",
   "execution_count": 27,
   "metadata": {},
   "outputs": [
    {
     "name": "stdout",
     "output_type": "stream",
     "text": [
      "11.108\n"
     ]
    }
   ],
   "source": [
    "def mean_absolute_error(y,yp):\n",
    "    \"\"\"\n",
    "    計算MAE\n",
    "    Args:\n",
    "      - y : 實際值\n",
    "      - yp : 預測值\n",
    "    Return:\n",
    "      - mae : MAE\n",
    "     \"\"\" \n",
    "    mae = MAE = sum(abs(y-yp)) / len(y)\n",
    "    return mae\n",
    "\n",
    "MAE = mean_absolute_error(y, y_hat)\n",
    "print(\"%.3f\" % (MAE))"
   ]
  },
  {
   "cell_type": "markdown",
   "metadata": {},
   "source": [
    "#### 實作MSE"
   ]
  },
  {
   "cell_type": "code",
   "execution_count": 30,
   "metadata": {},
   "outputs": [
    {
     "name": "stdout",
     "output_type": "stream",
     "text": [
      "122.108\n"
     ]
    }
   ],
   "source": [
    "def mean_squre_error(y, yp):\n",
    "    \"\"\"\n",
    "    args:\n",
    "     - y :實際值\n",
    "     - yp : 預測值\n",
    "    Return:\n",
    "     - mse : MSE\n",
    "    \"\"\"\n",
    "    mse = MSE = (sum(abs(y-yp)) / len(y))**2\n",
    "    return mse\n",
    "\n",
    "MSE = mean_squre_error(y, y_hat)\n",
    "print(\"%.3f\" % (MSE))"
   ]
  },
  {
   "cell_type": "code",
   "execution_count": null,
   "metadata": {},
   "outputs": [],
   "source": []
  }
 ],
 "metadata": {
  "kernelspec": {
   "display_name": "Python 3",
   "language": "python",
   "name": "python3"
  },
  "language_info": {
   "codemirror_mode": {
    "name": "ipython",
    "version": 3
   },
   "file_extension": ".py",
   "mimetype": "text/x-python",
   "name": "python",
   "nbconvert_exporter": "python",
   "pygments_lexer": "ipython3",
   "version": "3.7.0"
  }
 },
 "nbformat": 4,
 "nbformat_minor": 2
}
