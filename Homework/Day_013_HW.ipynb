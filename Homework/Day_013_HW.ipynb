{
 "cells": [
  {
   "cell_type": "markdown",
   "metadata": {},
   "source": [
    "### 練習時間\n",
    "參考 Day 12 範例程式，離散化你覺得有興趣的欄位，並嘗試找出有趣的訊息"
   ]
  },
  {
   "cell_type": "code",
   "execution_count": 1,
   "metadata": {},
   "outputs": [],
   "source": [
    "# Import 需要的套件\n",
    "import os\n",
    "import numpy as np\n",
    "import pandas as pd\n",
    "\n",
    "import matplotlib.pyplot as plt\n",
    "%matplotlib inline"
   ]
  },
  {
   "cell_type": "markdown",
   "metadata": {},
   "source": [
    "### 之前做過的處理"
   ]
  },
  {
   "cell_type": "code",
   "execution_count": 3,
   "metadata": {},
   "outputs": [],
   "source": [
    "#設定資料讀取路徑\n",
    "dir_path = '/home/edith/文件/100days-data/'\n",
    "data_app1 = os.path.join(dir_path,'application_train.csv')\n",
    "data_app2 = os.path.join(dir_path,'application_test.csv')\n",
    "\n",
    "data_train = pd.read_csv(data_app1)\n",
    "data_test = pd.read_csv(data_app2)"
   ]
  },
  {
   "cell_type": "code",
   "execution_count": 15,
   "metadata": {},
   "outputs": [],
   "source": [
    "from sklearn.preprocessing import LabelEncoder\n",
    "\n",
    "# Create a label encoder object\n",
    "le = LabelEncoder()\n",
    "le_count = 0\n",
    "\n",
    "# Iterate through the columns 寫迴圈\n",
    "for col in data_train:\n",
    "    if data_train[col].dtype == 'object':\n",
    "        #if 2 or fewer unique categories\n",
    "        if len(list(data_train[col].unique())) <= 2:\n",
    "            # Train on the training data\n",
    "            le.fit(data_train[col])\n",
    "            # Transform both training and testing data\n",
    "            data_train[col] = le.transform(data_train[col])\n",
    "            data_test[col] = le.transform(data_test[col])\n",
    "            \n",
    "            # Keep track of how many columns were label encoded\n",
    "            le_count += 1\n",
    "            \n",
    "data_train = pd.get_dummies(data_train)\n",
    "data_test = pd.get_dummies(data_test)"
   ]
  },
  {
   "cell_type": "code",
   "execution_count": 35,
   "metadata": {},
   "outputs": [],
   "source": [
    "# Create an anomalous flag column \n",
    "data_train['DAYS_EMPLOYED_ANOM'] = data_train[\"DAYS_EMPLOYED\"] == 365243\n",
    "data_train['DAYS_EMPLOYED'].replace({365243: np.nan}, inplace = True)\n",
    "# also apply to testing dataset\n",
    "data_test['DAYS_EMPLOYED_ANOM'] = data_test[\"DAYS_EMPLOYED\"] == 365243\n",
    "data_test[\"DAYS_EMPLOYED\"].replace({365243: np.nan}, inplace = True)\n",
    "\n",
    "# absolute the value of DAYS_BIRTH\n",
    "data_train['DAYS_BIRTH'] = abs(data_train['DAYS_BIRTH'])\n",
    "data_test['DAYS_BIRTH'] = abs(data_test['DAYS_BIRTH'])"
   ]
  },
  {
   "cell_type": "code",
   "execution_count": 45,
   "metadata": {},
   "outputs": [
    {
     "data": {
      "text/plain": [
       "(35.099, 39.959]    41758\n",
       "(39.959, 44.819]    40350\n",
       "(30.238, 35.099]    38430\n",
       "(44.819, 49.679]    34311\n",
       "(49.679, 54.54]     33544\n",
       "(25.378, 30.238]    33127\n",
       "(54.54, 59.4]       32650\n",
       "(59.4, 64.26]       27685\n",
       "(20.469, 25.378]    13679\n",
       "(64.26, 69.121]     11977\n",
       "Name: YEARS_BIRTH_GROUP, dtype: int64"
      ]
     },
     "execution_count": 45,
     "metadata": {},
     "output_type": "execute_result"
    }
   ],
   "source": [
    "data_train['YEARS_BIRTH_GROUP'] = pd.cut(data_train['DAYS_BIRTH']/365, 10)\n",
    "data_train['YEARS_BIRTH_GROUP'].value_counts()\n",
    "# data_train['YEARS_BIRTH_GROUP'].head()"
   ]
  },
  {
   "cell_type": "code",
   "execution_count": 54,
   "metadata": {},
   "outputs": [
    {
     "data": {
      "text/plain": [
       "<function matplotlib.pyplot.show(*args, **kw)>"
      ]
     },
     "execution_count": 54,
     "metadata": {},
     "output_type": "execute_result"
    },
    {
     "data": {
      "image/png": "[encoded data removed]",
      "text/plain": [
       "<Figure size 1080x720 with 1 Axes>"
      ]
     },
     "metadata": {
      "needs_background": "light"
     },
     "output_type": "display_data"
    }
   ],
   "source": [
    "data_train.boxplot(column = 'AMT_INCOME_TOTAL', by = 'YEARS_BIRTH_GROUP', showfliers = False, figsize=(15,10))\n",
    "# plt.suptitle('123')\n",
    "plt.show"
   ]
  },
  {
   "cell_type": "code",
   "execution_count": 61,
   "metadata": {},
   "outputs": [
    {
     "data": {
      "text/plain": [
       "(-91324.35, 11723085.0]       307508\n",
       "(11723085.0, 23420520.0]           2\n",
       "(23420520.0, 35117955.0]           0\n",
       "(35117955.0, 46815390.0]           0\n",
       "(46815390.0, 58512825.0]           0\n",
       "(58512825.0, 70210260.0]           0\n",
       "(70210260.0, 81907695.0]           0\n",
       "(81907695.0, 93605130.0]           0\n",
       "(93605130.0, 105302565.0]          0\n",
       "(105302565.0, 117000000.0]         1\n",
       "Name: AMT_INCOME_TOTAL_equal_width, dtype: int64"
      ]
     },
     "execution_count": 61,
     "metadata": {},
     "output_type": "execute_result"
    }
   ],
   "source": [
    "#等寬分割10等分\n",
    "data_train[\"AMT_INCOME_TOTAL_equal_width\"] = pd.cut(data_train['AMT_INCOME_TOTAL'], 10)\n",
    "data_train[\"AMT_INCOME_TOTAL_equal_width\"].value_counts().sort_index()"
   ]
  },
  {
   "cell_type": "code",
   "execution_count": 66,
   "metadata": {},
   "outputs": [
    {
     "data": {
      "text/plain": [
       "(25649.999, 81000.0]       33391\n",
       "(81000.0, 99000.0]         30280\n",
       "(99000.0, 112500.0]        36907\n",
       "(112500.0, 135000.0]       48849\n",
       "(135000.0, 147150.0]        4333\n",
       "(147150.0, 162000.0]       31120\n",
       "(162000.0, 180000.0]       30704\n",
       "(180000.0, 225000.0]       44809\n",
       "(225000.0, 270000.0]       19957\n",
       "(270000.0, 117000000.0]    27161\n",
       "Name: AMT_INCOME_TOTAL_equal_freq, dtype: int64"
      ]
     },
     "execution_count": 66,
     "metadata": {},
     "output_type": "execute_result"
    }
   ],
   "source": [
    "# 等頻分割10等分\n",
    "data_train[\"AMT_INCOME_TOTAL_equal_freq\"] = pd.qcut(data_train['AMT_INCOME_TOTAL'], 10)\n",
    "data_train[\"AMT_INCOME_TOTAL_equal_freq\"].value_counts().sort_index()"
   ]
  },
  {
   "cell_type": "code",
   "execution_count": null,
   "metadata": {},
   "outputs": [],
   "source": []
  }
 ],
 "metadata": {
  "kernelspec": {
   "display_name": "Python 3",
   "language": "python",
   "name": "python3"
  },
  "language_info": {
   "codemirror_mode": {
    "name": "ipython",
    "version": 3
   },
   "file_extension": ".py",
   "mimetype": "text/x-python",
   "name": "python",
   "nbconvert_exporter": "python",
   "pygments_lexer": "ipython3",
   "version": "3.7.0"
  }
 },
 "nbformat": 4,
 "nbformat_minor": 2
}
