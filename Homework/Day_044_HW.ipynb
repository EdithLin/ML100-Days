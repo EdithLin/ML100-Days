{
 "cells": [
  {
   "cell_type": "code",
   "execution_count": 12,
   "metadata": {},
   "outputs": [],
   "source": [
    "from sklearn import datasets, metrics\n",
    "from sklearn.ensemble import RandomForestClassifier, RandomForestRegressor\n",
    "from sklearn.model_selection import train_test_split\n",
    "\n",
    "#讀取鳶尾花資料集\n",
    "iris = datasets.load_iris()\n",
    "\n",
    "#切分訓練集/測試集\n",
    "x_train, x_test, y_train, y_test = train_test_split(iris.data, iris.target,\n",
    "                        test_size = 0.25, random_state = 4)\n",
    "\n",
    "#建立模型\n",
    "clf = RandomForestClassifier(n_estimators=10, criterion=\"gini\", max_features=\"auto\",\n",
    "                            max_depth = 10, min_samples_split=2, min_samples_leaf = 1)\n",
    "\n",
    "#訓練模型\n",
    "clf.fit(x_train, y_train)\n",
    "\n",
    "#預測測試集\n",
    "y_pred = clf.predict(x_test)"
   ]
  },
  {
   "cell_type": "code",
   "execution_count": 8,
   "metadata": {},
   "outputs": [
    {
     "name": "stdout",
     "output_type": "stream",
     "text": [
      "Acuuracy: 0.9736842105263158\n",
      "['sepal length (cm)', 'sepal width (cm)', 'petal length (cm)', 'petal width (cm)']\n",
      "Feature importance:  [0.10483967 0.01582127 0.32105714 0.55828192]\n"
     ]
    }
   ],
   "source": [
    "acc = metrics.accuracy_score(y_test, y_pred)#acc為模型可性度\n",
    "print(\"Acuuracy:\",acc)\n",
    "print(iris.feature_names)\n",
    "print(\"Feature importance: \", clf.feature_importances_)"
   ]
  },
  {
   "cell_type": "markdown",
   "metadata": {},
   "source": [
    "# 作業"
   ]
  },
  {
   "cell_type": "markdown",
   "metadata": {},
   "source": [
    "## 1. 試著調整 RandomForestClassifier(...) 中的參數，並觀察是否會改變結果？\n",
    " \n",
    "- ANS:將決策數數量變成30，最大深度變30，結果準確度為0.94。跟上面的參數結果相比，準確度下降，且重要特徵也變了。"
   ]
  },
  {
   "cell_type": "code",
   "execution_count": 9,
   "metadata": {},
   "outputs": [
    {
     "name": "stdout",
     "output_type": "stream",
     "text": [
      "Acuuracy: 0.9473684210526315\n",
      "['sepal length (cm)', 'sepal width (cm)', 'petal length (cm)', 'petal width (cm)']\n",
      "Feature importance:  [0.15228081 0.02398611 0.43189367 0.39183942]\n"
     ]
    }
   ],
   "source": [
    "#將決策數數量變成30，最大深度變30\n",
    "\n",
    "#讀取鳶尾花資料集\n",
    "iris = datasets.load_iris()\n",
    "\n",
    "#切分訓練集/測試集\n",
    "x_train, x_test, y_train, y_test = train_test_split(iris.data, iris.target,\n",
    "                        test_size = 0.25, random_state = 4)\n",
    "\n",
    "#建立模型\n",
    "clf = RandomForestClassifier(n_estimators=30, criterion=\"gini\", max_features=\"auto\",\n",
    "                            max_depth = 30, min_samples_split=2, min_samples_leaf = 1)\n",
    "\n",
    "#訓練模型\n",
    "clf.fit(x_train, y_train)\n",
    "\n",
    "#預測測試集\n",
    "y_pred = clf.predict(x_test)\n",
    "\n",
    "#acc為模型可性度\n",
    "acc = metrics.accuracy_score(y_test, y_pred)\n",
    "print(\"Acuuracy:\",acc)\n",
    "print(iris.feature_names)\n",
    "print(\"Feature importance: \", clf.feature_importances_)"
   ]
  },
  {
   "cell_type": "markdown",
   "metadata": {},
   "source": [
    "## 2. 改用其他資料集 (boston, wine)，並與回歸模型的結果進行比較\n",
    "\n",
    "- 如果資料集為boston，則隨機森林回歸比線性回歸準確度高"
   ]
  },
  {
   "cell_type": "code",
   "execution_count": 15,
   "metadata": {},
   "outputs": [
    {
     "name": "stdout",
     "output_type": "stream",
     "text": [
      "Acuuracy: 0.8215657993104799\n",
      "['CRIM' 'ZN' 'INDUS' 'CHAS' 'NOX' 'RM' 'AGE' 'DIS' 'RAD' 'TAX' 'PTRATIO'\n",
      " 'B' 'LSTAT']\n",
      "Feature importance:  [0.04762149 0.00083661 0.00476386 0.00403867 0.02517468 0.48224587\n",
      " 0.01353939 0.05056742 0.00597838 0.0219739  0.01526448 0.01285197\n",
      " 0.31514329]\n"
     ]
    }
   ],
   "source": [
    "#如果資料集數值為連續性，則隨機森林必須用RandomForestRegressor\n",
    "#讀取boston資料集\n",
    "boston = datasets.load_boston()\n",
    "\n",
    "#切分訓練集/測試集\n",
    "x_train, x_test, y_train, y_test = train_test_split(boston.data, boston.target,\n",
    "                        test_size = 0.25, random_state = 4)\n",
    "\n",
    "#建立模型\n",
    "clf1 = RandomForestRegressor()\n",
    "\n",
    "#訓練模型\n",
    "clf1.fit(x_train, y_train)\n",
    "\n",
    "#預測測試集\n",
    "y_pred = clf1.predict(x_test)\n",
    "\n",
    "#acc為模型可性度\n",
    "acc = metrics.r2_score(y_test, y_pred)\n",
    "print(\"Acuuracy:\",acc)\n",
    "print(boston.feature_names)\n",
    "print(\"Feature importance: \", clf1.feature_importances_)"
   ]
  },
  {
   "cell_type": "code",
   "execution_count": 16,
   "metadata": {},
   "outputs": [
    {
     "name": "stdout",
     "output_type": "stream",
     "text": [
      "MSE: 26.94708514444879\n",
      "['CRIM' 'ZN' 'INDUS' 'CHAS' 'NOX' 'RM' 'AGE' 'DIS' 'RAD' 'TAX' 'PTRATIO'\n",
      " 'B' 'LSTAT']\n"
     ]
    }
   ],
   "source": [
    "# 線性回歸\n",
    "import numpy as np\n",
    "from sklearn import linear_model\n",
    "from sklearn.metrics import mean_squared_error, r2_score, accuracy_score\n",
    "\n",
    "# 讀取wine資料集\n",
    "boston = datasets.load_boston()\n",
    "\n",
    "# 切割訓練集/測試集\n",
    "x_train, x_test, y_train, y_test = train_test_split(boston.data, \n",
    "            boston.target, test_size = 0.25, random_state = 4)\n",
    "\n",
    "# 建立模型\n",
    "clf4 = linear_model.LinearRegression()\n",
    "\n",
    "#訓練模型\n",
    "clf4.fit(x_train, y_train)\n",
    "\n",
    "#預測測試集\n",
    "y_pred = clf4.predict(x_test)\n",
    "MSE = mean_squared_error(y_test, y_pred) #acc為預測可性度\n",
    "\n",
    "print('MSE:', MSE)\n",
    "print(boston.feature_names)"
   ]
  },
  {
   "cell_type": "code",
   "execution_count": null,
   "metadata": {},
   "outputs": [],
   "source": []
  }
 ],
 "metadata": {
  "kernelspec": {
   "display_name": "Python 3",
   "language": "python",
   "name": "python3"
  },
  "language_info": {
   "codemirror_mode": {
    "name": "ipython",
    "version": 3
   },
   "file_extension": ".py",
   "mimetype": "text/x-python",
   "name": "python",
   "nbconvert_exporter": "python",
   "pygments_lexer": "ipython3",
   "version": "3.7.0"
  }
 },
 "nbformat": 4,
 "nbformat_minor": 2
}
